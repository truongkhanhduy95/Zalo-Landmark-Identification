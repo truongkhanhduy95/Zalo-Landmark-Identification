{
  "nbformat": 4,
  "nbformat_minor": 0,
  "metadata": {
    "colab": {
      "name": "resnet50_train.ipynb",
      "version": "0.3.2",
      "provenance": [],
      "include_colab_link": true
    },
    "kernelspec": {
      "name": "python3",
      "display_name": "Python 3"
    },
    "accelerator": "GPU"
  },
  "cells": [
    {
      "cell_type": "markdown",
      "metadata": {
        "id": "view-in-github",
        "colab_type": "text"
      },
      "source": [
        "[View in Colaboratory](https://colab.research.google.com/github/truongkhanhduy95/Zalo-Landmark-Identification/blob/master/resnet50_train.ipynb)"
      ]
    },
    {
      "metadata": {
        "id": "MNDho7Ln1ZVl",
        "colab_type": "code",
        "colab": {
          "base_uri": "https://localhost:8080/",
          "height": 5035
        },
        "outputId": "8edb6a00-156b-47e2-cab4-a0cf4a71fef4"
      },
      "cell_type": "code",
      "source": [
        "!wget -NS --content-disposition \"https://console.clouderizer.com/givemeinitsh/KEY\" && bash ./clouderizer_init.sh\n",
        "\n"
      ],
      "execution_count": 0,
      "outputs": [
        {
          "output_type": "stream",
          "text": [
            "--2018-08-13 15:09:36--  https://console.clouderizer.com/givemeinitsh/UvXZVUuo\r\n",
            "Resolving console.clouderizer.com (console.clouderizer.com)... 34.228.182.208\r\n",
            "Connecting to console.clouderizer.com (console.clouderizer.com)|34.228.182.208|:443... connected.\n",
            "HTTP request sent, awaiting response... \n",
            "  HTTP/1.1 200 OK\n",
            "  Server: nginx/1.10.3 (Ubuntu)\n",
            "  Date: Mon, 13 Aug 2018 15:09:36 GMT\n",
            "  Content-Type: application/octet-stream; charset=utf-8\n",
            "  Content-Length: 4471\n",
            "  Connection: keep-alive\n",
            "  X-Powered-By: Sails <sailsjs.org>\n",
            "  Access-Control-Allow-Origin: \n",
            "  Access-Control-Allow-Credentials: \n",
            "  Access-Control-Allow-Methods: \n",
            "  Access-Control-Allow-Headers: \n",
            "  Access-Control-Expose-Headers: \n",
            "  Content-Disposition: attachment; filename=\"clouderizer_init.sh\"\n",
            "  ETag: W/\"1177-qtpSyNypjgSzTY5dNiKaAw\"\n",
            "  set-cookie: sails.sid=s%3AUIXS5LR4IxO8SUcO-yKbdFxrBw5QWaXF.avS922JIpCPI1akODq1WMdEc3wzmJUKOKhIiUuDz3k8; Path=/; HttpOnly\n",
            "Length: 4471 (4.4K) [application/octet-stream]\n",
            "Last-modified header missing -- time-stamps turned off.\n",
            "--2018-08-13 15:09:36--  https://console.clouderizer.com/givemeinitsh/UvXZVUuo\n",
            "Reusing existing connection to console.clouderizer.com:443.\n",
            "HTTP request sent, awaiting response... \n",
            "  HTTP/1.1 200 OK\n",
            "  Server: nginx/1.10.3 (Ubuntu)\n",
            "  Date: Mon, 13 Aug 2018 15:09:36 GMT\n",
            "  Content-Type: application/octet-stream; charset=utf-8\n",
            "  Content-Length: 4471\n",
            "  Connection: keep-alive\n",
            "  X-Powered-By: Sails <sailsjs.org>\n",
            "  Access-Control-Allow-Origin: \n",
            "  Access-Control-Allow-Credentials: \n",
            "  Access-Control-Allow-Methods: \n",
            "  Access-Control-Allow-Headers: \n",
            "  Access-Control-Expose-Headers: \n",
            "  Content-Disposition: attachment; filename=\"clouderizer_init.sh\"\n",
            "  ETag: W/\"1177-qtpSyNypjgSzTY5dNiKaAw\"\n",
            "Length: 4471 (4.4K) [application/octet-stream]\n",
            "Saving to: ‘clouderizer_init.sh’\n",
            "\n",
            "clouderizer_init.sh 100%[===================>]   4.37K  --.-KB/s    in 0s      \n",
            "\n",
            "2018-08-13 15:09:36 (381 MB/s) - ‘clouderizer_init.sh’ saved [4471/4471]\n",
            "\n",
            "--2018-08-13 15:09:36--  https://console.clouderizer.com/givemecolabinitsh/UvXZVUuo\n",
            "Resolving console.clouderizer.com (console.clouderizer.com)... 34.228.182.208\n",
            "Connecting to console.clouderizer.com (console.clouderizer.com)|34.228.182.208|:443... connected.\n",
            "HTTP request sent, awaiting response... \n",
            "  HTTP/1.1 200 OK\n",
            "  Server: nginx/1.10.3 (Ubuntu)\n",
            "  Date: Mon, 13 Aug 2018 15:09:36 GMT\n",
            "  Content-Type: application/octet-stream; charset=utf-8\n",
            "  Content-Length: 17782\n",
            "  Connection: keep-alive\n",
            "  X-Powered-By: Sails <sailsjs.org>\n",
            "  Access-Control-Allow-Origin: \n",
            "  Access-Control-Allow-Credentials: \n",
            "  Access-Control-Allow-Methods: \n",
            "  Access-Control-Allow-Headers: \n",
            "  Access-Control-Expose-Headers: \n",
            "  Content-Disposition: attachment; filename=\"colab_init.sh\"\n",
            "  ETag: W/\"4576-eT5JJQQl/vNJvtFLF3OEnQ\"\n",
            "  set-cookie: sails.sid=s%3AA8QeTPw85YrFUHLNJJRc5jUIvcvM1gGj.HeiIUmP0cSg1gyix4vdOqsKOfm98wR%2BUs7umVmB0lPo; Path=/; HttpOnly\n",
            "Length: 17782 (17K) [application/octet-stream]\n",
            "Last-modified header missing -- time-stamps turned off.\n",
            "--2018-08-13 15:09:36--  https://console.clouderizer.com/givemecolabinitsh/UvXZVUuo\n",
            "Reusing existing connection to console.clouderizer.com:443.\n",
            "HTTP request sent, awaiting response... \n",
            "  HTTP/1.1 200 OK\n",
            "  Server: nginx/1.10.3 (Ubuntu)\n",
            "  Date: Mon, 13 Aug 2018 15:09:36 GMT\n",
            "  Content-Type: application/octet-stream; charset=utf-8\n",
            "  Content-Length: 17782\n",
            "  Connection: keep-alive\n",
            "  X-Powered-By: Sails <sailsjs.org>\n",
            "  Access-Control-Allow-Origin: \n",
            "  Access-Control-Allow-Credentials: \n",
            "  Access-Control-Allow-Methods: \n",
            "  Access-Control-Allow-Headers: \n",
            "  Access-Control-Expose-Headers: \n",
            "  Content-Disposition: attachment; filename=\"colab_init.sh\"\n",
            "  ETag: W/\"4576-eT5JJQQl/vNJvtFLF3OEnQ\"\n",
            "Length: 17782 (17K) [application/octet-stream]\n",
            "Saving to: ‘colab_init.sh’\n",
            "\n",
            "colab_init.sh       100%[===================>]  17.37K  --.-KB/s    in 0s      \n",
            "\n",
            "2018-08-13 15:09:36 (189 MB/s) - ‘colab_init.sh’ saved [17782/17782]\n",
            "\n",
            "Running inside Docker!\n",
            "Linux version 4.14.33+ (chrome-bot@build12-m2.golo.chromium.org) (gcc version 4.9.x 20150123 (prerelease) (4.9.2_cos_gg_4.9.2-r185-2cdcfd30c27f0d836cc477f2ae9f456287fd6b1b_4.9.2-r185)) #1 SMP Wed Jun 20 01:15:52 PDT 2018\n",
            "Starting Clouderizer...\n",
            "If you are running clouderizer for first time on this machine, it might take some time (~10 mins) to install all pre-requisite frameworks.\n",
            "Hit:1 http://security.ubuntu.com/ubuntu artful-security InRelease\n",
            "Hit:2 http://archive.ubuntu.com/ubuntu artful InRelease\n",
            "Hit:3 http://archive.ubuntu.com/ubuntu artful-updates InRelease\n",
            "Hit:4 http://archive.ubuntu.com/ubuntu artful-backports InRelease\n",
            "Reading package lists... Done\n",
            "The default-jre package has already been installed.\n",
            "The openssh-server package has already been installed.\n",
            "The tmux package has already been installed.\n",
            "The autossh package has already been installed.\n",
            "The bzip2 package has already been installed.\n",
            "The git package has already been installed.\n",
            "The zip package has already been installed.\n",
            "The unzip package has already been installed.\n",
            "The curl package has already been installed.\n",
            "The libreadline-dev package has already been installed.\n",
            "The cmake package has already been installed.\n",
            "The gcc-5 package has already been installed.\n",
            "The g++-5 package has already been installed.\n",
            "The fuse package has already been installed.\n",
            "The python package has already been installed.\n",
            "The python3 package has already been installed.\n",
            "The python-pip package has already been installed.\n",
            "The python3-pip package has already been installed.\n",
            "  % Total    % Received % Xferd  Average Speed   Time    Time     Time  Current\n",
            "                                 Dload  Upload   Total   Spent    Left  Speed\n",
            "100  4178  100  4178    0     0   4178      0  0:00:01 --:--:--  0:00:01 11111\n",
            "  % Total    % Received % Xferd  Average Speed   Time    Time     Time  Current\n",
            "                                 Dload  Upload   Total   Spent    Left  Speed\n",
            "100    13  100    13    0     0     13      0  0:00:01 --:--:--  0:00:01    34\n",
            "\n",
            "The latest version of rclone rclone v1.42 is already installed.\n",
            "\n",
            "Requirement already up-to-date: pip in /usr/local/lib/python3.6/dist-packages (18.0)\n",
            "jupyter                  1.0.0      \n",
            "jupyter-client           5.2.3      \n",
            "jupyter-console          5.2.0      \n",
            "jupyter-core             4.4.0      \n",
            "jupyterlab               0.33.10    \n",
            "jupyterlab-launcher      0.11.2     \n",
            "The jupyter package has already been installed.\n",
            "jupyterlab               0.33.10    \n",
            "jupyterlab-launcher      0.11.2     \n",
            "The jupyterlab package has already been installed.\n",
            "matplotlib               2.1.2      \n",
            "The matplotlib package has already been installed.\n",
            "tensorflow               1.10.0rc1  \n",
            "tensorflow-hub           0.1.1      \n",
            "The tensorflow package has already been installed.\n",
            "keras is not installed, installing...\n",
            "Requirement already satisfied: keras in /usr/local/lib/python3.6/dist-packages (2.1.6)\n",
            "Requirement already satisfied: six>=1.9.0 in /usr/local/lib/python3.6/dist-packages (from keras) (1.11.0)\n",
            "Requirement already satisfied: pyyaml in /usr/local/lib/python3.6/dist-packages (from keras) (3.13)\n",
            "Requirement already satisfied: scipy>=0.14 in /usr/local/lib/python3.6/dist-packages (from keras) (0.19.1)\n",
            "Requirement already satisfied: h5py in /usr/local/lib/python3.6/dist-packages (from keras) (2.8.0)\n",
            "Requirement already satisfied: numpy>=1.9.1 in /usr/local/lib/python3.6/dist-packages (from keras) (1.14.5)\n",
            "yes: standard output: Broken pipe\n",
            "environment_kernels is not installed, installing...\n",
            "Requirement already satisfied: environment_kernels in /usr/local/lib/python3.6/dist-packages (1.1.1)\n",
            "yes: standard output: Broken pipe\n",
            "flask is not installed, installing...\n",
            "Requirement already satisfied: flask in /usr/local/lib/python3.6/dist-packages (1.0.2)\n",
            "Requirement already satisfied: Werkzeug>=0.14 in /usr/local/lib/python3.6/dist-packages (from flask) (0.14.1)\n",
            "Requirement already satisfied: itsdangerous>=0.24 in /usr/local/lib/python3.6/dist-packages (from flask) (0.24)\n",
            "Requirement already satisfied: Jinja2>=2.10 in /usr/local/lib/python3.6/dist-packages (from flask) (2.10)\n",
            "Requirement already satisfied: click>=5.1 in /usr/local/lib/python3.6/dist-packages (from flask) (6.7)\n",
            "Requirement already satisfied: MarkupSafe>=0.23 in /usr/local/lib/python3.6/dist-packages (from Jinja2>=2.10->flask) (1.0)\n",
            "yes: standard output: Broken pipe\n",
            "werkzeug is not installed, installing...\n",
            "Requirement already satisfied: werkzeug in /usr/local/lib/python3.6/dist-packages (0.14.1)\n",
            "yes: standard output: Broken pipe\n",
            "Traceback (most recent call last):\n",
            "  File \"/usr/local/bin/jupyter-serverextension\", line 11, in <module>\n",
            "    sys.exit(main())\n",
            "  File \"/usr/local/lib/python2.7/dist-packages/jupyter_core/application.py\", line 266, in launch_instance\n",
            "    return super(JupyterApp, cls).launch_instance(argv=argv, **kwargs)\n",
            "  File \"/usr/local/lib/python2.7/dist-packages/traitlets/config/application.py\", line 658, in launch_instance\n",
            "    app.start()\n",
            "  File \"/usr/local/lib/python2.7/dist-packages/notebook/serverextensions.py\", line 293, in start\n",
            "    super(ServerExtensionApp, self).start()\n",
            "  File \"/usr/local/lib/python2.7/dist-packages/jupyter_core/application.py\", line 255, in start\n",
            "    self.subapp.start()\n",
            "  File \"/usr/local/lib/python2.7/dist-packages/notebook/serverextensions.py\", line 210, in start\n",
            "    self.toggle_server_extension_python(arg)\n",
            "  File \"/usr/local/lib/python2.7/dist-packages/notebook/serverextensions.py\", line 199, in toggle_server_extension_python\n",
            "    m, server_exts = _get_server_extension_metadata(package)\n",
            "  File \"/usr/local/lib/python2.7/dist-packages/notebook/serverextensions.py\", line 327, in _get_server_extension_metadata\n",
            "    m = import_item(module)\n",
            "  File \"/usr/local/lib/python2.7/dist-packages/traitlets/utils/importstring.py\", line 42, in import_item\n",
            "    return __import__(parts[0])\n",
            "ImportError: No module named jupyterlab\n",
            "STARTING PRE-STARTUP TASK\n",
            "./colab_init.sh: line 434: undefined: command not found\n",
            "Collecting https://github.com/fastai/fastai/archive/master.zip\n",
            "\u001b[?25l  Downloading https://github.com/fastai/fastai/archive/master.zip (90.5MB)\n",
            "\u001b[K    100% |████████████████████████████████| 90.5MB 312kB/s \n",
            "\u001b[?25hRequirement already satisfied (use --upgrade to upgrade): fastai==0.7.0 from https://github.com/fastai/fastai/archive/master.zip in /usr/local/lib/python3.6/dist-packages\n",
            "Requirement already satisfied: bcolz in /usr/local/lib/python3.6/dist-packages (from fastai==0.7.0) (1.2.1)\n",
            "Requirement already satisfied: bleach in /usr/local/lib/python3.6/dist-packages (from fastai==0.7.0) (2.1.3)\n",
            "Requirement already satisfied: certifi in /usr/local/lib/python3.6/dist-packages (from fastai==0.7.0) (2018.4.16)\n",
            "Requirement already satisfied: cycler in /usr/local/lib/python3.6/dist-packages (from fastai==0.7.0) (0.10.0)\n",
            "Requirement already satisfied: decorator in /usr/local/lib/python3.6/dist-packages (from fastai==0.7.0) (4.3.0)\n",
            "Requirement already satisfied: entrypoints in /usr/local/lib/python3.6/dist-packages (from fastai==0.7.0) (0.2.3)\n",
            "Requirement already satisfied: feather-format in /usr/local/lib/python3.6/dist-packages (from fastai==0.7.0) (0.4.0)\n",
            "Requirement already satisfied: graphviz in /usr/local/lib/python3.6/dist-packages (from fastai==0.7.0) (0.8.4)\n",
            "Requirement already satisfied: html5lib in /usr/local/lib/python3.6/dist-packages (from fastai==0.7.0) (1.0.1)\n",
            "Requirement already satisfied: ipykernel in /usr/local/lib/python3.6/dist-packages (from fastai==0.7.0) (4.6.1)\n",
            "Requirement already satisfied: ipython in /usr/local/lib/python3.6/dist-packages (from fastai==0.7.0) (5.5.0)\n",
            "Requirement already satisfied: ipython-genutils in /usr/local/lib/python3.6/dist-packages (from fastai==0.7.0) (0.2.0)\n",
            "Requirement already satisfied: ipywidgets in /usr/local/lib/python3.6/dist-packages (from fastai==0.7.0) (7.4.0)\n",
            "Requirement already satisfied: isoweek in /usr/local/lib/python3.6/dist-packages (from fastai==0.7.0) (1.3.3)\n",
            "Requirement already satisfied: jedi in /usr/local/lib/python3.6/dist-packages (from fastai==0.7.0) (0.12.1)\n",
            "Requirement already satisfied: Jinja2 in /usr/local/lib/python3.6/dist-packages (from fastai==0.7.0) (2.10)\n",
            "Requirement already satisfied: jsonschema in /usr/local/lib/python3.6/dist-packages (from fastai==0.7.0) (2.6.0)\n",
            "Requirement already satisfied: jupyter in /usr/local/lib/python3.6/dist-packages (from fastai==0.7.0) (1.0.0)\n",
            "Requirement already satisfied: MarkupSafe in /usr/local/lib/python3.6/dist-packages (from fastai==0.7.0) (1.0)\n",
            "Requirement already satisfied: matplotlib in /usr/local/lib/python3.6/dist-packages (from fastai==0.7.0) (2.1.2)\n",
            "Requirement already satisfied: numpy in /usr/local/lib/python3.6/dist-packages (from fastai==0.7.0) (1.14.5)\n",
            "Requirement already satisfied: opencv-python in /usr/local/lib/python3.6/dist-packages (from fastai==0.7.0) (3.4.2.17)\n",
            "Requirement already satisfied: pandas in /usr/local/lib/python3.6/dist-packages (from fastai==0.7.0) (0.22.0)\n",
            "Requirement already satisfied: pandas_summary in /usr/local/lib/python3.6/dist-packages (from fastai==0.7.0) (0.0.5)\n",
            "Requirement already satisfied: pickleshare in /usr/local/lib/python3.6/dist-packages (from fastai==0.7.0) (0.7.4)\n",
            "Requirement already satisfied: Pillow in /usr/local/lib/python3.6/dist-packages (from fastai==0.7.0) (5.2.0)\n",
            "Requirement already satisfied: plotnine in /usr/local/lib/python3.6/dist-packages (from fastai==0.7.0) (0.4.0)\n",
            "Requirement already satisfied: ptyprocess in /usr/local/lib/python3.6/dist-packages (from fastai==0.7.0) (0.6.0)\n",
            "Requirement already satisfied: Pygments in /usr/local/lib/python3.6/dist-packages (from fastai==0.7.0) (2.1.3)\n",
            "Requirement already satisfied: pyparsing in /usr/local/lib/python3.6/dist-packages (from fastai==0.7.0) (2.2.0)\n",
            "Requirement already satisfied: python-dateutil in /usr/local/lib/python3.6/dist-packages (from fastai==0.7.0) (2.5.3)\n",
            "Requirement already satisfied: pytz in /usr/local/lib/python3.6/dist-packages (from fastai==0.7.0) (2018.5)\n",
            "Requirement already satisfied: PyYAML in /usr/local/lib/python3.6/dist-packages (from fastai==0.7.0) (3.13)\n",
            "Requirement already satisfied: pyzmq in /usr/local/lib/python3.6/dist-packages (from fastai==0.7.0) (16.0.4)\n",
            "Requirement already satisfied: scipy in /usr/local/lib/python3.6/dist-packages (from fastai==0.7.0) (0.19.1)\n",
            "Requirement already satisfied: seaborn in /usr/local/lib/python3.6/dist-packages (from fastai==0.7.0) (0.7.1)\n",
            "Requirement already satisfied: simplegeneric in /usr/local/lib/python3.6/dist-packages (from fastai==0.7.0) (0.8.1)\n",
            "Requirement already satisfied: sklearn_pandas in /usr/local/lib/python3.6/dist-packages (from fastai==0.7.0) (1.6.0)\n",
            "Requirement already satisfied: testpath in /usr/local/lib/python3.6/dist-packages (from fastai==0.7.0) (0.3.1)\n",
            "Requirement already satisfied: torch<0.4 in /usr/local/lib/python3.6/dist-packages (from fastai==0.7.0) (0.3.0.post4)\n",
            "Requirement already satisfied: torchtext in /usr/local/lib/python3.6/dist-packages (from fastai==0.7.0) (0.2.3)\n",
            "Requirement already satisfied: torchvision in /usr/local/lib/python3.6/dist-packages (from fastai==0.7.0) (0.2.1)\n",
            "Requirement already satisfied: tornado in /usr/local/lib/python3.6/dist-packages (from fastai==0.7.0) (4.5.3)\n",
            "Requirement already satisfied: tqdm in /usr/local/lib/python3.6/dist-packages (from fastai==0.7.0) (4.24.0)\n",
            "Requirement already satisfied: traitlets in /usr/local/lib/python3.6/dist-packages (from fastai==0.7.0) (4.3.2)\n",
            "Requirement already satisfied: wcwidth in /usr/local/lib/python3.6/dist-packages (from fastai==0.7.0) (0.1.7)\n",
            "Requirement already satisfied: webencodings in /usr/local/lib/python3.6/dist-packages (from fastai==0.7.0) (0.5.1)\n",
            "Requirement already satisfied: widgetsnbextension in /usr/local/lib/python3.6/dist-packages (from fastai==0.7.0) (3.4.0)\n",
            "Requirement already satisfied: six in /usr/local/lib/python3.6/dist-packages (from bleach->fastai==0.7.0) (1.11.0)\n",
            "Requirement already satisfied: pyarrow>=0.4.0 in /usr/local/lib/python3.6/dist-packages (from feather-format->fastai==0.7.0) (0.10.0)\n",
            "Requirement already satisfied: jupyter-client in /usr/local/lib/python3.6/dist-packages (from ipykernel->fastai==0.7.0) (5.2.3)\n",
            "Requirement already satisfied: pexpect; sys_platform != \"win32\" in /usr/local/lib/python3.6/dist-packages (from ipython->fastai==0.7.0) (4.6.0)\n",
            "Requirement already satisfied: prompt-toolkit<2.0.0,>=1.0.4 in /usr/local/lib/python3.6/dist-packages (from ipython->fastai==0.7.0) (1.0.15)\n",
            "Requirement already satisfied: setuptools>=18.5 in /usr/local/lib/python3.6/dist-packages (from ipython->fastai==0.7.0) (39.1.0)\n",
            "Requirement already satisfied: nbformat>=4.2.0 in /usr/local/lib/python3.6/dist-packages (from ipywidgets->fastai==0.7.0) (4.4.0)\n",
            "Requirement already satisfied: parso>=0.3.0 in /usr/local/lib/python3.6/dist-packages (from jedi->fastai==0.7.0) (0.3.1)\n",
            "Requirement already satisfied: notebook in /usr/local/lib/python3.6/dist-packages (from jupyter->fastai==0.7.0) (5.2.2)\n",
            "Requirement already satisfied: nbconvert in /usr/local/lib/python3.6/dist-packages (from jupyter->fastai==0.7.0) (5.3.1)\n",
            "Requirement already satisfied: qtconsole in /usr/local/lib/python3.6/dist-packages (from jupyter->fastai==0.7.0) (4.4.0)\n",
            "Requirement already satisfied: jupyter-console in /usr/local/lib/python3.6/dist-packages (from jupyter->fastai==0.7.0) (5.2.0)\n",
            "Requirement already satisfied: mizani>=0.4.5 in /usr/local/lib/python3.6/dist-packages (from plotnine->fastai==0.7.0) (0.4.6)\n",
            "Requirement already satisfied: patsy>=0.4.1 in /usr/local/lib/python3.6/dist-packages (from plotnine->fastai==0.7.0) (0.5.0)\n",
            "Requirement already satisfied: statsmodels>=0.8.0 in /usr/local/lib/python3.6/dist-packages (from plotnine->fastai==0.7.0) (0.8.0)\n",
            "Requirement already satisfied: descartes>=1.1.0 in /usr/local/lib/python3.6/dist-packages (from plotnine->fastai==0.7.0) (1.1.0)\n",
            "Requirement already satisfied: geopandas>=0.3.0 in /usr/local/lib/python3.6/dist-packages (from plotnine->fastai==0.7.0) (0.4.0)\n",
            "Requirement already satisfied: scikit-learn>=0.15.0 in /usr/local/lib/python3.6/dist-packages (from sklearn_pandas->fastai==0.7.0) (0.19.2)\n",
            "Requirement already satisfied: requests in /usr/local/lib/python3.6/dist-packages (from torchtext->fastai==0.7.0) (2.18.4)\n",
            "Requirement already satisfied: jupyter-core in /usr/local/lib/python3.6/dist-packages (from jupyter-client->ipykernel->fastai==0.7.0) (4.4.0)\n",
            "Requirement already satisfied: terminado>=0.3.3; sys_platform != \"win32\" in /usr/local/lib/python3.6/dist-packages (from notebook->jupyter->fastai==0.7.0) (0.8.1)\n",
            "Requirement already satisfied: mistune>=0.7.4 in /usr/local/lib/python3.6/dist-packages (from nbconvert->jupyter->fastai==0.7.0) (0.8.3)\n",
            "Requirement already satisfied: pandocfilters>=1.4.1 in /usr/local/lib/python3.6/dist-packages (from nbconvert->jupyter->fastai==0.7.0) (1.4.2)\n",
            "Requirement already satisfied: palettable in /usr/local/lib/python3.6/dist-packages (from mizani>=0.4.5->plotnine->fastai==0.7.0) (3.1.1)\n",
            "Requirement already satisfied: fiona in /usr/local/lib/python3.6/dist-packages (from geopandas>=0.3.0->plotnine->fastai==0.7.0) (1.7.13)\n",
            "Requirement already satisfied: shapely in /usr/local/lib/python3.6/dist-packages (from geopandas>=0.3.0->plotnine->fastai==0.7.0) (1.6.4.post2)\n",
            "Requirement already satisfied: pyproj in /usr/local/lib/python3.6/dist-packages (from geopandas>=0.3.0->plotnine->fastai==0.7.0) (1.9.5.1)\n",
            "Requirement already satisfied: urllib3<1.23,>=1.21.1 in /usr/local/lib/python3.6/dist-packages (from requests->torchtext->fastai==0.7.0) (1.22)\n",
            "Requirement already satisfied: chardet<3.1.0,>=3.0.2 in /usr/local/lib/python3.6/dist-packages (from requests->torchtext->fastai==0.7.0) (3.0.4)\n",
            "Requirement already satisfied: idna<2.7,>=2.5 in /usr/local/lib/python3.6/dist-packages (from requests->torchtext->fastai==0.7.0) (2.6)\n",
            "Requirement already satisfied: munch in /usr/local/lib/python3.6/dist-packages (from fiona->geopandas>=0.3.0->plotnine->fastai==0.7.0) (2.3.2)\n",
            "Requirement already satisfied: click-plugins in /usr/local/lib/python3.6/dist-packages (from fiona->geopandas>=0.3.0->plotnine->fastai==0.7.0) (1.0.3)\n",
            "Requirement already satisfied: cligj>=0.4 in /usr/local/lib/python3.6/dist-packages (from fiona->geopandas>=0.3.0->plotnine->fastai==0.7.0) (0.4.0)\n",
            "Requirement already satisfied: click>=3.0 in /usr/local/lib/python3.6/dist-packages (from click-plugins->fiona->geopandas>=0.3.0->plotnine->fastai==0.7.0) (6.7)\n",
            "Building wheels for collected packages: fastai\n",
            "  Running setup.py bdist_wheel for fastai ... \u001b[?25l-\b \b\\\b \bdone\n",
            "\u001b[?25h  Stored in directory: /tmp/pip-ephem-wheel-cache-rg_sqja3/wheels/64/3d/9f/d12a217aa2531321c5b9ae96288fcae2687d3b744376e8f94f\n",
            "Successfully built fastai\n",
            "pip 18.0 from /usr/local/lib/python3.6/dist-packages/pip (python 3.6)\n",
            "Requirement already satisfied: torch==0.3.0.post4 from http://download.pytorch.org/whl/cu80/torch-0.3.0.post4-cp36-cp36m-linux_x86_64.whl in /usr/local/lib/python3.6/dist-packages (0.3.0.post4)\n",
            "Requirement already satisfied: pyyaml in /usr/local/lib/python3.6/dist-packages (from torch==0.3.0.post4) (3.13)\n",
            "Requirement already satisfied: numpy in /usr/local/lib/python3.6/dist-packages (from torch==0.3.0.post4) (1.14.5)\n",
            "Requirement already satisfied: torchvision in /usr/local/lib/python3.6/dist-packages (0.2.1)\n",
            "Requirement already satisfied: torch in /usr/local/lib/python3.6/dist-packages (from torchvision) (0.3.0.post4)\n",
            "Requirement already satisfied: numpy in /usr/local/lib/python3.6/dist-packages (from torchvision) (1.14.5)\n",
            "Requirement already satisfied: pillow>=4.1.1 in /usr/local/lib/python3.6/dist-packages (from torchvision) (5.2.0)\n",
            "Requirement already satisfied: six in /usr/local/lib/python3.6/dist-packages (from torchvision) (1.11.0)\n",
            "Requirement already satisfied: pyyaml in /usr/local/lib/python3.6/dist-packages (from torch->torchvision) (3.13)\n",
            "ENDING PRE-STARTUP TASK\n",
            "Default ssh password for this instance is clouderizer\n",
            "HOME=/content\n",
            "source /content/.profile\n",
            " * Restarting OpenBSD Secure Shell server sshd\n",
            "   ...done.\n",
            "All setup done. Starting Clouderizer service now...\n",
            "******You can now login to Clouderizer console to remotely access this project.*******\n"
          ],
          "name": "stdout"
        }
      ]
    },
    {
      "metadata": {
        "id": "0e8eKHusUflj",
        "colab_type": "code",
        "colab": {}
      },
      "cell_type": "code",
      "source": [
        "import tensorflow as tf\n",
        "import numpy as np\n",
        "import pandas as pd\n",
        "from keras.preprocessing.image import ImageDataGenerator\n",
        "\n",
        "print(\"TensorFlow version: \"+ tf.__version__)"
      ],
      "execution_count": 0,
      "outputs": []
    },
    {
      "metadata": {
        "id": "r6FfjdUHb_j9",
        "colab_type": "code",
        "colab": {}
      },
      "cell_type": "code",
      "source": [
        "import math, json, os, sys\n",
        "\n",
        "from keras.callbacks import EarlyStopping, ModelCheckpoint\n",
        "from keras.layers import Dense\n",
        "from keras.models import Model\n",
        "from keras.optimizers import Adam\n",
        "from keras.preprocessing import image"
      ],
      "execution_count": 0,
      "outputs": []
    },
    {
      "metadata": {
        "id": "XMDmpTWPsTeS",
        "colab_type": "code",
        "colab": {}
      },
      "cell_type": "code",
      "source": [
        "!apt-get install -y -qq software-properties-common python-software-properties module-init-tools\n",
        "!add-apt-repository -y ppa:alessandro-strada/ppa 2>&1 > /dev/null\n",
        "!apt-get update -qq 2>&1 > /dev/null\n",
        "!apt-get -y install -qq google-drive-ocamlfuse fuse"
      ],
      "execution_count": 0,
      "outputs": []
    },
    {
      "metadata": {
        "id": "ZDOIojFDuf9Q",
        "colab_type": "code",
        "colab": {}
      },
      "cell_type": "code",
      "source": [
        "from google.colab import auth\n",
        "auth.authenticate_user()"
      ],
      "execution_count": 0,
      "outputs": []
    },
    {
      "metadata": {
        "id": "HQx9lkC9ulTw",
        "colab_type": "code",
        "colab": {}
      },
      "cell_type": "code",
      "source": [
        "from oauth2client.client import GoogleCredentials\n",
        "creds = GoogleCredentials.get_application_default()\n",
        "import getpass\n",
        "!google-drive-ocamlfuse -headless -id={creds.client_id} -secret={creds.client_secret} < /dev/null 2>&1 | grep URL\n",
        "vcode = getpass.getpass()\n",
        "!echo {vcode} | google-drive-ocamlfuse -headless -id={creds.client_id} -secret={creds.client_secret}"
      ],
      "execution_count": 0,
      "outputs": []
    },
    {
      "metadata": {
        "id": "4Gfi9DxGup5n",
        "colab_type": "code",
        "colab": {}
      },
      "cell_type": "code",
      "source": [
        "!mkdir -p drive\n",
        "!google-drive-ocamlfuse drive"
      ],
      "execution_count": 0,
      "outputs": []
    },
    {
      "metadata": {
        "id": "5tFwe8Vcuy_w",
        "colab_type": "code",
        "colab": {}
      },
      "cell_type": "code",
      "source": [
        "print('Files in Drive:')\n",
        "!ls drive/"
      ],
      "execution_count": 0,
      "outputs": []
    },
    {
      "metadata": {
        "id": "Su6TMe4BvSav",
        "colab_type": "code",
        "colab": {}
      },
      "cell_type": "code",
      "source": [
        "from google.colab import auth\n",
        "auth.authenticate_user()"
      ],
      "execution_count": 0,
      "outputs": []
    },
    {
      "metadata": {
        "id": "kz0J09lF4w9S",
        "colab_type": "code",
        "colab": {}
      },
      "cell_type": "code",
      "source": [
        "!ls data"
      ],
      "execution_count": 0,
      "outputs": []
    },
    {
      "metadata": {
        "id": "ghbv-LDqytzy",
        "colab_type": "code",
        "colab": {}
      },
      "cell_type": "code",
      "source": [
        "!gsutil -m cp -r gs://zalo_challange_landmark/TrainVal/ data\n",
        " "
      ],
      "execution_count": 0,
      "outputs": []
    },
    {
      "metadata": {
        "id": "_TTS71vGaHKd",
        "colab_type": "code",
        "colab": {
          "base_uri": "https://localhost:8080/",
          "height": 68
        },
        "outputId": "50c2701b-28a7-41c1-ce7f-4198b4542c9a"
      },
      "cell_type": "code",
      "source": [
        "!gsutil -m cp -r gs://zalo_challange_landmark/train_val2018.json data\n"
      ],
      "execution_count": 0,
      "outputs": [
        {
          "output_type": "stream",
          "text": [
            "Copying gs://zalo_challange_landmark/train_val2018.json...\n",
            "- [1/1 files][  2.9 MiB/  2.9 MiB] 100% Done                                    \n",
            "Operation completed over 1 objects/2.9 MiB.                                      \n"
          ],
          "name": "stdout"
        }
      ]
    },
    {
      "metadata": {
        "id": "_XJw9shYaVOO",
        "colab_type": "code",
        "colab": {
          "base_uri": "https://localhost:8080/",
          "height": 119
        },
        "outputId": "3eab8fa3-03c5-4931-d52e-baf9cb752fe3"
      },
      "cell_type": "code",
      "source": [
        "!mkdir src\n",
        "!gsutil -m cp -r gs://zalo_challange_landmark/src/ ./"
      ],
      "execution_count": 0,
      "outputs": [
        {
          "output_type": "stream",
          "text": [
            "Copying gs://zalo_challange_landmark/src/__pycache__/zalo_utils.cpython-36.pyc...\r\n",
            "Copying gs://zalo_challange_landmark/src/inference.py...\r\n",
            "Copying gs://zalo_challange_landmark/src/train.py...\r\n",
            "Copying gs://zalo_challange_landmark/src/zalo_utils.py...\n",
            "- [4/4 files][ 25.4 KiB/ 25.4 KiB] 100% Done                                    \n",
            "Operation completed over 4 objects/25.4 KiB.                                     \n"
          ],
          "name": "stdout"
        }
      ]
    },
    {
      "metadata": {
        "id": "70_APTwfc-J4",
        "colab_type": "code",
        "colab": {
          "base_uri": "https://localhost:8080/",
          "height": 34
        },
        "outputId": "df3735eb-8531-404a-aa6b-138280b63b23"
      },
      "cell_type": "code",
      "source": [
        "!ls\n"
      ],
      "execution_count": 0,
      "outputs": [
        {
          "output_type": "stream",
          "text": [
            "data  datalab  drive  src  TrainVal\r\n"
          ],
          "name": "stdout"
        }
      ]
    },
    {
      "metadata": {
        "id": "sioqxm0FglqG",
        "colab_type": "code",
        "colab": {
          "base_uri": "https://localhost:8080/",
          "height": 2091
        },
        "outputId": "94d63c10-87b0-4ab8-93b1-1854e066e712"
      },
      "cell_type": "code",
      "source": [
        "!pip3 uninstall torch --yes \n",
        "!pip3 uninstall torchvision --yes \n",
        "!pip list"
      ],
      "execution_count": 0,
      "outputs": [
        {
          "output_type": "stream",
          "text": [
            "\u001b[33mSkipping torch as it is not installed.\u001b[0m\n",
            "Uninstalling torchvision-0.2.1:\n",
            "  Successfully uninstalled torchvision-0.2.1\n",
            "Package                  Version  \n",
            "------------------------ ---------\n",
            "absl-py                  0.3.0    \n",
            "altair                   2.1.0    \n",
            "astor                    0.7.1    \n",
            "beautifulsoup4           4.6.1    \n",
            "bleach                   2.1.3    \n",
            "cachetools               2.1.0    \n",
            "certifi                  2018.4.16\n",
            "chardet                  3.0.4    \n",
            "crcmod                   1.7      \n",
            "cycler                   0.10.0   \n",
            "decorator                4.3.0    \n",
            "entrypoints              0.2.3    \n",
            "future                   0.16.0   \n",
            "gast                     0.2.0    \n",
            "google-api-core          1.3.0    \n",
            "google-api-python-client 1.6.7    \n",
            "google-auth              1.4.2    \n",
            "google-auth-httplib2     0.0.3    \n",
            "google-auth-oauthlib     0.2.0    \n",
            "google-cloud-bigquery    1.1.0    \n",
            "google-cloud-core        0.28.1   \n",
            "google-cloud-language    1.0.2    \n",
            "google-cloud-storage     1.8.0    \n",
            "google-cloud-translate   1.3.1    \n",
            "google-colab             0.0.1a1  \n",
            "google-resumable-media   0.3.1    \n",
            "googleapis-common-protos 1.5.3    \n",
            "grpcio                   1.14.1   \n",
            "h5py                     2.8.0    \n",
            "html5lib                 1.0.1    \n",
            "httplib2                 0.11.3   \n",
            "idna                     2.6      \n",
            "ipykernel                4.6.1    \n",
            "ipython                  5.5.0    \n",
            "ipython-genutils         0.2.0    \n",
            "Jinja2                   2.10     \n",
            "jsonschema               2.6.0    \n",
            "jupyter-client           5.2.3    \n",
            "jupyter-core             4.4.0    \n",
            "Keras                    2.1.6    \n",
            "Markdown                 2.6.11   \n",
            "MarkupSafe               1.0      \n",
            "matplotlib               2.1.2    \n",
            "mistune                  0.8.3    \n",
            "mpmath                   1.0.0    \n",
            "nbconvert                5.3.1    \n",
            "nbformat                 4.4.0    \n",
            "networkx                 2.1      \n",
            "nltk                     3.2.5    \n",
            "notebook                 5.2.2    \n",
            "numpy                    1.14.5   \n",
            "oauth2client             4.1.2    \n",
            "oauthlib                 2.1.0    \n",
            "olefile                  0.45.1   \n",
            "opencv-python            3.4.2.17 \n",
            "packaging                17.1     \n",
            "pandas                   0.22.0   \n",
            "pandas-gbq               0.4.1    \n",
            "pandocfilters            1.4.2    \n",
            "patsy                    0.5.0    \n",
            "pexpect                  4.6.0    \n",
            "pickleshare              0.7.4    \n",
            "Pillow                   5.2.0    \n",
            "pip                      18.0     \n",
            "plotly                   1.12.12  \n",
            "pluggy                   0.7.1    \n",
            "portpicker               1.2.0    \n",
            "prompt-toolkit           1.0.15   \n",
            "protobuf                 3.6.0    \n",
            "psutil                   5.4.6    \n",
            "ptyprocess               0.6.0    \n",
            "py                       1.5.4    \n",
            "pyasn1                   0.4.4    \n",
            "pyasn1-modules           0.2.2    \n",
            "Pygments                 2.1.3    \n",
            "pygobject                3.24.1   \n",
            "pyparsing                2.2.0    \n",
            "pystache                 0.5.4    \n",
            "python-apt               1.4.0b3  \n",
            "python-dateutil          2.5.3    \n",
            "pytz                     2018.5   \n",
            "PyWavelets               0.5.2    \n",
            "PyYAML                   3.13     \n",
            "pyzmq                    16.0.4   \n",
            "requests                 2.18.4   \n",
            "requests-oauthlib        1.0.0    \n",
            "rsa                      3.4.2    \n",
            "scikit-image             0.13.1   \n",
            "scikit-learn             0.19.2   \n",
            "scipy                    0.19.1   \n",
            "seaborn                  0.7.1    \n",
            "setuptools               39.1.0   \n",
            "simplegeneric            0.8.1    \n",
            "six                      1.11.0   \n",
            "statsmodels              0.8.0    \n",
            "sympy                    1.1.1    \n",
            "tensorboard              1.9.0    \n",
            "tensorflow               1.9.0    \n",
            "tensorflow-hub           0.1.1    \n",
            "termcolor                1.1.0    \n",
            "terminado                0.8.1    \n",
            "testpath                 0.3.1    \n",
            "toolz                    0.9.0    \n",
            "tornado                  4.5.3    \n",
            "tox                      3.1.2    \n",
            "traitlets                4.3.2    \n",
            "typing                   3.6.4    \n",
            "unattended-upgrades      0.1      \n",
            "uritemplate              3.0.0    \n",
            "urllib3                  1.22     \n",
            "vega-datasets            0.5.0    \n",
            "virtualenv               16.0.0   \n",
            "wcwidth                  0.1.7    \n",
            "webencodings             0.5.1    \n",
            "Werkzeug                 0.14.1   \n",
            "wheel                    0.31.1   \n",
            "xgboost                  0.7.post4\n"
          ],
          "name": "stdout"
        }
      ]
    },
    {
      "metadata": {
        "id": "mxFjEXSlhQXz",
        "colab_type": "code",
        "colab": {
          "base_uri": "https://localhost:8080/",
          "height": 34
        },
        "outputId": "e5f07994-7efd-4925-d4fa-07745fb9318b"
      },
      "cell_type": "code",
      "source": [
        "import torch\n",
        "print(torch.__version__)"
      ],
      "execution_count": 0,
      "outputs": [
        {
          "output_type": "stream",
          "text": [
            "0.3.0.post4\n"
          ],
          "name": "stdout"
        }
      ]
    },
    {
      "metadata": {
        "id": "oOaxSmvhfwSI",
        "colab_type": "code",
        "colab": {
          "base_uri": "https://localhost:8080/",
          "height": 88
        },
        "outputId": "87d95532-64ea-46a8-8851-cd4220ebfc65"
      },
      "cell_type": "code",
      "source": [
        "from os import path\n",
        "from wheel.pep425tags import get_abbr_impl, get_impl_ver, get_abi_tag\n",
        "platform = '{}{}-{}'.format(get_abbr_impl(), get_impl_ver(), get_abi_tag())\n",
        "\n",
        "accelerator = 'cu80' if path.exists('/opt/bin/nvidia-smi') else 'cpu'\n",
        "\n",
        "!pip install -q http://download.pytorch.org/whl/{accelerator}/torch-0.4.0-{platform}-linux_x86_64.whl torchvision\n",
        "import torch\n",
        "print(torch.__version__)\n",
        "print(torch.cuda.is_available())"
      ],
      "execution_count": 0,
      "outputs": [
        {
          "output_type": "stream",
          "text": [
            "tcmalloc: large alloc 1073750016 bytes == 0x5c954000 @  0x7f723fcde1c4 0x46d6a4 0x5fcbcc 0x4c494d 0x54f3c4 0x553aaf 0x54e4c8 0x54f4f6 0x553aaf 0x54efc1 0x54f24d 0x553aaf 0x54efc1 0x54f24d 0x553aaf 0x54efc1 0x54f24d 0x551ee0 0x54e4c8 0x54f4f6 0x553aaf 0x54efc1 0x54f24d 0x551ee0 0x54efc1 0x54f24d 0x551ee0 0x54e4c8 0x54f4f6 0x553aaf 0x54e4c8\r\n",
            "0.3.0.post4\n",
            "True\n"
          ],
          "name": "stdout"
        }
      ]
    },
    {
      "metadata": {
        "id": "AcUHiYamzJYN",
        "colab_type": "code",
        "colab": {
          "base_uri": "https://localhost:8080/",
          "height": 411
        },
        "outputId": "78d960da-7ba0-4cdc-e4a2-ccd74ffde852"
      },
      "cell_type": "code",
      "source": [
        "# install PyTorch \n",
        "!pip3 install http://download.pytorch.org/whl/cu80/torch-0.3.0.post4-cp36-cp36m-linux_x86_64.whl \n",
        "!pip3 install torchvision\n"
      ],
      "execution_count": 0,
      "outputs": [
        {
          "output_type": "stream",
          "text": [
            "Collecting torch==0.3.0.post4 from http://download.pytorch.org/whl/cu80/torch-0.3.0.post4-cp36-cp36m-linux_x86_64.whl\n",
            "\u001b[?25l  Downloading http://download.pytorch.org/whl/cu80/torch-0.3.0.post4-cp36-cp36m-linux_x86_64.whl (592.3MB)\n",
            "\u001b[K    100% |████████████████████████████████| 592.3MB 49.0MB/s \n",
            "\u001b[?25hRequirement already satisfied: pyyaml in /usr/local/lib/python3.6/dist-packages (from torch==0.3.0.post4) (3.13)\n",
            "Requirement already satisfied: numpy in /usr/local/lib/python3.6/dist-packages (from torch==0.3.0.post4) (1.14.5)\n",
            "Installing collected packages: torch\n",
            "Successfully installed torch-0.3.0.post4\n",
            "Collecting torchvision\n",
            "\u001b[?25l  Downloading https://files.pythonhosted.org/packages/ca/0d/f00b2885711e08bd71242ebe7b96561e6f6d01fdb4b9dcf4d37e2e13c5e1/torchvision-0.2.1-py2.py3-none-any.whl (54kB)\n",
            "\u001b[K    100% |████████████████████████████████| 61kB 5.2MB/s \n",
            "\u001b[?25hRequirement already satisfied: six in /usr/local/lib/python3.6/dist-packages (from torchvision) (1.11.0)\n",
            "Collecting pillow>=4.1.1 (from torchvision)\n",
            "\u001b[?25l  Downloading https://files.pythonhosted.org/packages/d1/24/f53ff6b61b3d728b90934bddb4f03f8ab584a7f49299bf3bde56e2952612/Pillow-5.2.0-cp36-cp36m-manylinux1_x86_64.whl (2.0MB)\n",
            "\u001b[K    100% |████████████████████████████████| 2.0MB 13.8MB/s \n",
            "\u001b[?25hRequirement already satisfied: numpy in /usr/local/lib/python3.6/dist-packages (from torchvision) (1.14.5)\n",
            "Requirement already satisfied: torch in /usr/local/lib/python3.6/dist-packages (from torchvision) (0.3.0.post4)\n",
            "Requirement already satisfied: pyyaml in /usr/local/lib/python3.6/dist-packages (from torch->torchvision) (3.13)\n",
            "Installing collected packages: pillow, torchvision\n",
            "  Found existing installation: Pillow 4.0.0\n",
            "    Uninstalling Pillow-4.0.0:\n",
            "      Successfully uninstalled Pillow-4.0.0\n",
            "Successfully installed pillow-5.2.0 torchvision-0.2.1\n"
          ],
          "name": "stdout"
        }
      ]
    },
    {
      "metadata": {
        "id": "CzxNhYKrXdi9",
        "colab_type": "code",
        "colab": {}
      },
      "cell_type": "code",
      "source": [
        ""
      ],
      "execution_count": 0,
      "outputs": []
    }
  ]
}