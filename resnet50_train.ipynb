{
  "nbformat": 4,
  "nbformat_minor": 0,
  "metadata": {
    "colab": {
      "name": "resnet50_train.ipynb",
      "version": "0.3.2",
      "provenance": [],
      "include_colab_link": true
    },
    "kernelspec": {
      "name": "python3",
      "display_name": "Python 3"
    },
    "accelerator": "GPU"
  },
  "cells": [
    {
      "cell_type": "markdown",
      "metadata": {
        "id": "view-in-github",
        "colab_type": "text"
      },
      "source": [
        "[View in Colaboratory](https://colab.research.google.com/github/truongkhanhduy95/Zalo-Landmark-Identification/blob/master/resnet50_train.ipynb)"
      ]
    },
    {
      "metadata": {
        "id": "0e8eKHusUflj",
        "colab_type": "code",
        "colab": {}
      },
      "cell_type": "code",
      "source": [
        "import tensorflow as tf\n",
        "import numpy as np\n",
        "import pandas as pd\n",
        "from keras.preprocessing.image import ImageDataGenerator\n",
        "\n",
        "print(\"TensorFlow version: \"+ tf.__version__)"
      ],
      "execution_count": 0,
      "outputs": []
    },
    {
      "metadata": {
        "id": "r6FfjdUHb_j9",
        "colab_type": "code",
        "colab": {}
      },
      "cell_type": "code",
      "source": [
        "import math, json, os, sys\n",
        "\n",
        "from keras.callbacks import EarlyStopping, ModelCheckpoint\n",
        "from keras.layers import Dense\n",
        "from keras.models import Model\n",
        "from keras.optimizers import Adam\n",
        "from keras.preprocessing import image"
      ],
      "execution_count": 0,
      "outputs": []
    },
    {
      "metadata": {
        "id": "XMDmpTWPsTeS",
        "colab_type": "code",
        "colab": {}
      },
      "cell_type": "code",
      "source": [
        "!apt-get install -y -qq software-properties-common python-software-properties module-init-tools\n",
        "!add-apt-repository -y ppa:alessandro-strada/ppa 2>&1 > /dev/null\n",
        "!apt-get update -qq 2>&1 > /dev/null\n",
        "!apt-get -y install -qq google-drive-ocamlfuse fuse"
      ],
      "execution_count": 0,
      "outputs": []
    },
    {
      "metadata": {
        "id": "ZDOIojFDuf9Q",
        "colab_type": "code",
        "colab": {}
      },
      "cell_type": "code",
      "source": [
        "from google.colab import auth\n",
        "auth.authenticate_user()"
      ],
      "execution_count": 0,
      "outputs": []
    },
    {
      "metadata": {
        "id": "HQx9lkC9ulTw",
        "colab_type": "code",
        "colab": {}
      },
      "cell_type": "code",
      "source": [
        "from oauth2client.client import GoogleCredentials\n",
        "creds = GoogleCredentials.get_application_default()\n",
        "import getpass\n",
        "!google-drive-ocamlfuse -headless -id={creds.client_id} -secret={creds.client_secret} < /dev/null 2>&1 | grep URL\n",
        "vcode = getpass.getpass()\n",
        "!echo {vcode} | google-drive-ocamlfuse -headless -id={creds.client_id} -secret={creds.client_secret}"
      ],
      "execution_count": 0,
      "outputs": []
    },
    {
      "metadata": {
        "id": "4Gfi9DxGup5n",
        "colab_type": "code",
        "colab": {}
      },
      "cell_type": "code",
      "source": [
        "!mkdir -p drive\n",
        "!google-drive-ocamlfuse drive"
      ],
      "execution_count": 0,
      "outputs": []
    },
    {
      "metadata": {
        "id": "5tFwe8Vcuy_w",
        "colab_type": "code",
        "colab": {}
      },
      "cell_type": "code",
      "source": [
        "print('Files in Drive:')\n",
        "!ls drive/"
      ],
      "execution_count": 0,
      "outputs": []
    },
    {
      "metadata": {
        "id": "Su6TMe4BvSav",
        "colab_type": "code",
        "colab": {}
      },
      "cell_type": "code",
      "source": [
        "from google.colab import auth\n",
        "auth.authenticate_user()"
      ],
      "execution_count": 0,
      "outputs": []
    },
    {
      "metadata": {
        "id": "kz0J09lF4w9S",
        "colab_type": "code",
        "colab": {}
      },
      "cell_type": "code",
      "source": [
        "!ls data"
      ],
      "execution_count": 0,
      "outputs": []
    },
    {
      "metadata": {
        "id": "ghbv-LDqytzy",
        "colab_type": "code",
        "colab": {}
      },
      "cell_type": "code",
      "source": [
        "!gsutil -m cp -r gs://zalo_challange_landmark/TrainVal/ data\n",
        " "
      ],
      "execution_count": 0,
      "outputs": []
    },
    {
      "metadata": {
        "id": "_TTS71vGaHKd",
        "colab_type": "code",
        "colab": {
          "base_uri": "https://localhost:8080/",
          "height": 68
        },
        "outputId": "50c2701b-28a7-41c1-ce7f-4198b4542c9a"
      },
      "cell_type": "code",
      "source": [
        "!gsutil -m cp -r gs://zalo_challange_landmark/train_val2018.json data\n"
      ],
      "execution_count": 5,
      "outputs": [
        {
          "output_type": "stream",
          "text": [
            "Copying gs://zalo_challange_landmark/train_val2018.json...\n",
            "- [1/1 files][  2.9 MiB/  2.9 MiB] 100% Done                                    \n",
            "Operation completed over 1 objects/2.9 MiB.                                      \n"
          ],
          "name": "stdout"
        }
      ]
    },
    {
      "metadata": {
        "id": "_XJw9shYaVOO",
        "colab_type": "code",
        "colab": {
          "base_uri": "https://localhost:8080/",
          "height": 119
        },
        "outputId": "3eab8fa3-03c5-4931-d52e-baf9cb752fe3"
      },
      "cell_type": "code",
      "source": [
        "!mkdir src\n",
        "!gsutil -m cp -r gs://zalo_challange_landmark/src/ ./"
      ],
      "execution_count": 34,
      "outputs": [
        {
          "output_type": "stream",
          "text": [
            "Copying gs://zalo_challange_landmark/src/__pycache__/zalo_utils.cpython-36.pyc...\r\n",
            "Copying gs://zalo_challange_landmark/src/inference.py...\r\n",
            "Copying gs://zalo_challange_landmark/src/train.py...\r\n",
            "Copying gs://zalo_challange_landmark/src/zalo_utils.py...\n",
            "- [4/4 files][ 25.4 KiB/ 25.4 KiB] 100% Done                                    \n",
            "Operation completed over 4 objects/25.4 KiB.                                     \n"
          ],
          "name": "stdout"
        }
      ]
    },
    {
      "metadata": {
        "id": "70_APTwfc-J4",
        "colab_type": "code",
        "colab": {
          "base_uri": "https://localhost:8080/",
          "height": 34
        },
        "outputId": "df3735eb-8531-404a-aa6b-138280b63b23"
      },
      "cell_type": "code",
      "source": [
        "!ls\n"
      ],
      "execution_count": 35,
      "outputs": [
        {
          "output_type": "stream",
          "text": [
            "data  datalab  drive  src  TrainVal\r\n"
          ],
          "name": "stdout"
        }
      ]
    },
    {
      "metadata": {
        "id": "V-B_7JM2arQY",
        "colab_type": "code",
        "colab": {
          "base_uri": "https://localhost:8080/",
          "height": 615
        },
        "outputId": "19e84953-e7e3-40c7-9b20-9eeaf7c860f1"
      },
      "cell_type": "code",
      "source": [
        "!cd src && python train.py"
      ],
      "execution_count": 36,
      "outputs": [
        {
          "output_type": "stream",
          "text": [
            "Loading data\n",
            "Total files in the original dataset: 88246\n",
            "Total files with > 0 byes: 88220\n",
            "Total files with zero bytes 26\n",
            "Split data\n",
            "Number of training imgs: 79398\n",
            "Number of validation imgs: 8822\n",
            "DataLoader ....\n",
            "/usr/local/lib/python3.6/dist-packages/torchvision/transforms/transforms.py:563: UserWarning: The use of the transforms.RandomSizedCrop transform is deprecated, please use transforms.RandomResizedCrop instead.\n",
            "  \"please use transforms.RandomResizedCrop instead.\")\n",
            "/usr/local/lib/python3.6/dist-packages/torchvision/transforms/transforms.py:188: UserWarning: The use of the transforms.Scale transform is deprecated, please use transforms.Resize instead.\n",
            "  \"please use transforms.Resize instead.\")\n",
            "Load model\n",
            "Downloading: \"https://download.pytorch.org/models/resnet18-5c106cde.pth\" to /content/.torch/models/resnet18-5c106cde.pth\n",
            "100.0%\n",
            "Start training ... \n",
            "********************************************************\n",
            "Frozen shared part until 8-th layer, inclusive\n",
            "child  0  was frozen\n",
            "child  1  was frozen\n",
            "child  2  was frozen\n",
            "child  3  was frozen\n",
            "child  4  was frozen\n",
            "child  5  was frozen\n",
            "child  6  was frozen\n",
            "child  7  was frozen\n",
            "child  8  was frozen\n",
            "********************************************************\n",
            "#################################################################\n",
            "=> Training Epoch #1, LR=0.0100000000\n",
            "Traceback (most recent call last):\n",
            "  File \"train.py\", line 152, in <module>\n",
            "    torch.set_grad_enabled(True)\n",
            "AttributeError: module 'torch' has no attribute 'set_grad_enabled'\n"
          ],
          "name": "stdout"
        }
      ]
    },
    {
      "metadata": {
        "id": "sioqxm0FglqG",
        "colab_type": "code",
        "colab": {
          "base_uri": "https://localhost:8080/",
          "height": 2091
        },
        "outputId": "94d63c10-87b0-4ab8-93b1-1854e066e712"
      },
      "cell_type": "code",
      "source": [
        "!pip3 uninstall torch --yes \n",
        "!pip3 uninstall torchvision --yes \n",
        "!pip list"
      ],
      "execution_count": 54,
      "outputs": [
        {
          "output_type": "stream",
          "text": [
            "\u001b[33mSkipping torch as it is not installed.\u001b[0m\n",
            "Uninstalling torchvision-0.2.1:\n",
            "  Successfully uninstalled torchvision-0.2.1\n",
            "Package                  Version  \n",
            "------------------------ ---------\n",
            "absl-py                  0.3.0    \n",
            "altair                   2.1.0    \n",
            "astor                    0.7.1    \n",
            "beautifulsoup4           4.6.1    \n",
            "bleach                   2.1.3    \n",
            "cachetools               2.1.0    \n",
            "certifi                  2018.4.16\n",
            "chardet                  3.0.4    \n",
            "crcmod                   1.7      \n",
            "cycler                   0.10.0   \n",
            "decorator                4.3.0    \n",
            "entrypoints              0.2.3    \n",
            "future                   0.16.0   \n",
            "gast                     0.2.0    \n",
            "google-api-core          1.3.0    \n",
            "google-api-python-client 1.6.7    \n",
            "google-auth              1.4.2    \n",
            "google-auth-httplib2     0.0.3    \n",
            "google-auth-oauthlib     0.2.0    \n",
            "google-cloud-bigquery    1.1.0    \n",
            "google-cloud-core        0.28.1   \n",
            "google-cloud-language    1.0.2    \n",
            "google-cloud-storage     1.8.0    \n",
            "google-cloud-translate   1.3.1    \n",
            "google-colab             0.0.1a1  \n",
            "google-resumable-media   0.3.1    \n",
            "googleapis-common-protos 1.5.3    \n",
            "grpcio                   1.14.1   \n",
            "h5py                     2.8.0    \n",
            "html5lib                 1.0.1    \n",
            "httplib2                 0.11.3   \n",
            "idna                     2.6      \n",
            "ipykernel                4.6.1    \n",
            "ipython                  5.5.0    \n",
            "ipython-genutils         0.2.0    \n",
            "Jinja2                   2.10     \n",
            "jsonschema               2.6.0    \n",
            "jupyter-client           5.2.3    \n",
            "jupyter-core             4.4.0    \n",
            "Keras                    2.1.6    \n",
            "Markdown                 2.6.11   \n",
            "MarkupSafe               1.0      \n",
            "matplotlib               2.1.2    \n",
            "mistune                  0.8.3    \n",
            "mpmath                   1.0.0    \n",
            "nbconvert                5.3.1    \n",
            "nbformat                 4.4.0    \n",
            "networkx                 2.1      \n",
            "nltk                     3.2.5    \n",
            "notebook                 5.2.2    \n",
            "numpy                    1.14.5   \n",
            "oauth2client             4.1.2    \n",
            "oauthlib                 2.1.0    \n",
            "olefile                  0.45.1   \n",
            "opencv-python            3.4.2.17 \n",
            "packaging                17.1     \n",
            "pandas                   0.22.0   \n",
            "pandas-gbq               0.4.1    \n",
            "pandocfilters            1.4.2    \n",
            "patsy                    0.5.0    \n",
            "pexpect                  4.6.0    \n",
            "pickleshare              0.7.4    \n",
            "Pillow                   5.2.0    \n",
            "pip                      18.0     \n",
            "plotly                   1.12.12  \n",
            "pluggy                   0.7.1    \n",
            "portpicker               1.2.0    \n",
            "prompt-toolkit           1.0.15   \n",
            "protobuf                 3.6.0    \n",
            "psutil                   5.4.6    \n",
            "ptyprocess               0.6.0    \n",
            "py                       1.5.4    \n",
            "pyasn1                   0.4.4    \n",
            "pyasn1-modules           0.2.2    \n",
            "Pygments                 2.1.3    \n",
            "pygobject                3.24.1   \n",
            "pyparsing                2.2.0    \n",
            "pystache                 0.5.4    \n",
            "python-apt               1.4.0b3  \n",
            "python-dateutil          2.5.3    \n",
            "pytz                     2018.5   \n",
            "PyWavelets               0.5.2    \n",
            "PyYAML                   3.13     \n",
            "pyzmq                    16.0.4   \n",
            "requests                 2.18.4   \n",
            "requests-oauthlib        1.0.0    \n",
            "rsa                      3.4.2    \n",
            "scikit-image             0.13.1   \n",
            "scikit-learn             0.19.2   \n",
            "scipy                    0.19.1   \n",
            "seaborn                  0.7.1    \n",
            "setuptools               39.1.0   \n",
            "simplegeneric            0.8.1    \n",
            "six                      1.11.0   \n",
            "statsmodels              0.8.0    \n",
            "sympy                    1.1.1    \n",
            "tensorboard              1.9.0    \n",
            "tensorflow               1.9.0    \n",
            "tensorflow-hub           0.1.1    \n",
            "termcolor                1.1.0    \n",
            "terminado                0.8.1    \n",
            "testpath                 0.3.1    \n",
            "toolz                    0.9.0    \n",
            "tornado                  4.5.3    \n",
            "tox                      3.1.2    \n",
            "traitlets                4.3.2    \n",
            "typing                   3.6.4    \n",
            "unattended-upgrades      0.1      \n",
            "uritemplate              3.0.0    \n",
            "urllib3                  1.22     \n",
            "vega-datasets            0.5.0    \n",
            "virtualenv               16.0.0   \n",
            "wcwidth                  0.1.7    \n",
            "webencodings             0.5.1    \n",
            "Werkzeug                 0.14.1   \n",
            "wheel                    0.31.1   \n",
            "xgboost                  0.7.post4\n"
          ],
          "name": "stdout"
        }
      ]
    },
    {
      "metadata": {
        "id": "mxFjEXSlhQXz",
        "colab_type": "code",
        "colab": {
          "base_uri": "https://localhost:8080/",
          "height": 34
        },
        "outputId": "e5f07994-7efd-4925-d4fa-07745fb9318b"
      },
      "cell_type": "code",
      "source": [
        "import torch\n",
        "print(torch.__version__)"
      ],
      "execution_count": 55,
      "outputs": [
        {
          "output_type": "stream",
          "text": [
            "0.3.0.post4\n"
          ],
          "name": "stdout"
        }
      ]
    },
    {
      "metadata": {
        "id": "oOaxSmvhfwSI",
        "colab_type": "code",
        "colab": {
          "base_uri": "https://localhost:8080/",
          "height": 88
        },
        "outputId": "87d95532-64ea-46a8-8851-cd4220ebfc65"
      },
      "cell_type": "code",
      "source": [
        "from os import path\n",
        "from wheel.pep425tags import get_abbr_impl, get_impl_ver, get_abi_tag\n",
        "platform = '{}{}-{}'.format(get_abbr_impl(), get_impl_ver(), get_abi_tag())\n",
        "\n",
        "accelerator = 'cu80' if path.exists('/opt/bin/nvidia-smi') else 'cpu'\n",
        "\n",
        "!pip install -q http://download.pytorch.org/whl/{accelerator}/torch-0.4.0-{platform}-linux_x86_64.whl torchvision\n",
        "import torch\n",
        "print(torch.__version__)\n",
        "print(torch.cuda.is_available())"
      ],
      "execution_count": 56,
      "outputs": [
        {
          "output_type": "stream",
          "text": [
            "tcmalloc: large alloc 1073750016 bytes == 0x5c954000 @  0x7f723fcde1c4 0x46d6a4 0x5fcbcc 0x4c494d 0x54f3c4 0x553aaf 0x54e4c8 0x54f4f6 0x553aaf 0x54efc1 0x54f24d 0x553aaf 0x54efc1 0x54f24d 0x553aaf 0x54efc1 0x54f24d 0x551ee0 0x54e4c8 0x54f4f6 0x553aaf 0x54efc1 0x54f24d 0x551ee0 0x54efc1 0x54f24d 0x551ee0 0x54e4c8 0x54f4f6 0x553aaf 0x54e4c8\r\n",
            "0.3.0.post4\n",
            "True\n"
          ],
          "name": "stdout"
        }
      ]
    },
    {
      "metadata": {
        "id": "AcUHiYamzJYN",
        "colab_type": "code",
        "colab": {
          "base_uri": "https://localhost:8080/",
          "height": 411
        },
        "outputId": "78d960da-7ba0-4cdc-e4a2-ccd74ffde852"
      },
      "cell_type": "code",
      "source": [
        "# install PyTorch \n",
        "!pip3 install http://download.pytorch.org/whl/cu80/torch-0.3.0.post4-cp36-cp36m-linux_x86_64.whl \n",
        "!pip3 install torchvision\n"
      ],
      "execution_count": 21,
      "outputs": [
        {
          "output_type": "stream",
          "text": [
            "Collecting torch==0.3.0.post4 from http://download.pytorch.org/whl/cu80/torch-0.3.0.post4-cp36-cp36m-linux_x86_64.whl\n",
            "\u001b[?25l  Downloading http://download.pytorch.org/whl/cu80/torch-0.3.0.post4-cp36-cp36m-linux_x86_64.whl (592.3MB)\n",
            "\u001b[K    100% |████████████████████████████████| 592.3MB 49.0MB/s \n",
            "\u001b[?25hRequirement already satisfied: pyyaml in /usr/local/lib/python3.6/dist-packages (from torch==0.3.0.post4) (3.13)\n",
            "Requirement already satisfied: numpy in /usr/local/lib/python3.6/dist-packages (from torch==0.3.0.post4) (1.14.5)\n",
            "Installing collected packages: torch\n",
            "Successfully installed torch-0.3.0.post4\n",
            "Collecting torchvision\n",
            "\u001b[?25l  Downloading https://files.pythonhosted.org/packages/ca/0d/f00b2885711e08bd71242ebe7b96561e6f6d01fdb4b9dcf4d37e2e13c5e1/torchvision-0.2.1-py2.py3-none-any.whl (54kB)\n",
            "\u001b[K    100% |████████████████████████████████| 61kB 5.2MB/s \n",
            "\u001b[?25hRequirement already satisfied: six in /usr/local/lib/python3.6/dist-packages (from torchvision) (1.11.0)\n",
            "Collecting pillow>=4.1.1 (from torchvision)\n",
            "\u001b[?25l  Downloading https://files.pythonhosted.org/packages/d1/24/f53ff6b61b3d728b90934bddb4f03f8ab584a7f49299bf3bde56e2952612/Pillow-5.2.0-cp36-cp36m-manylinux1_x86_64.whl (2.0MB)\n",
            "\u001b[K    100% |████████████████████████████████| 2.0MB 13.8MB/s \n",
            "\u001b[?25hRequirement already satisfied: numpy in /usr/local/lib/python3.6/dist-packages (from torchvision) (1.14.5)\n",
            "Requirement already satisfied: torch in /usr/local/lib/python3.6/dist-packages (from torchvision) (0.3.0.post4)\n",
            "Requirement already satisfied: pyyaml in /usr/local/lib/python3.6/dist-packages (from torch->torchvision) (3.13)\n",
            "Installing collected packages: pillow, torchvision\n",
            "  Found existing installation: Pillow 4.0.0\n",
            "    Uninstalling Pillow-4.0.0:\n",
            "      Successfully uninstalled Pillow-4.0.0\n",
            "Successfully installed pillow-5.2.0 torchvision-0.2.1\n"
          ],
          "name": "stdout"
        }
      ]
    },
    {
      "metadata": {
        "id": "CzxNhYKrXdi9",
        "colab_type": "code",
        "colab": {}
      },
      "cell_type": "code",
      "source": [
        ""
      ],
      "execution_count": 0,
      "outputs": []
    }
  ]
}